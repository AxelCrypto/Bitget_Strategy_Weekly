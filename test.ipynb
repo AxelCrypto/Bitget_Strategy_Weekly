{
 "cells": [
  {
   "cell_type": "code",
   "execution_count": 1,
   "metadata": {},
   "outputs": [
    {
     "ename": "ModuleNotFoundError",
     "evalue": "No module named 'utilities'",
     "output_type": "error",
     "traceback": [
      "\u001b[1;31m---------------------------------------------------------------------------\u001b[0m",
      "\u001b[1;31mModuleNotFoundError\u001b[0m                       Traceback (most recent call last)",
      "\u001b[1;32m~\\AppData\\Local\\Temp\\ipykernel_9088\\271224006.py\u001b[0m in \u001b[0;36m<module>\u001b[1;34m\u001b[0m\n\u001b[0;32m      4\u001b[0m \u001b[1;32mimport\u001b[0m \u001b[0mta\u001b[0m\u001b[1;33m\u001b[0m\u001b[1;33m\u001b[0m\u001b[0m\n\u001b[0;32m      5\u001b[0m \u001b[1;32mimport\u001b[0m \u001b[0mpandas\u001b[0m \u001b[1;32mas\u001b[0m \u001b[0mpd\u001b[0m\u001b[1;33m\u001b[0m\u001b[1;33m\u001b[0m\u001b[0m\n\u001b[1;32m----> 6\u001b[1;33m \u001b[1;32mfrom\u001b[0m \u001b[0mutilities\u001b[0m\u001b[1;33m.\u001b[0m\u001b[0mperp_bitget\u001b[0m \u001b[1;32mimport\u001b[0m \u001b[0mPerpBitget\u001b[0m\u001b[1;33m\u001b[0m\u001b[1;33m\u001b[0m\u001b[0m\n\u001b[0m\u001b[0;32m      7\u001b[0m \u001b[1;32mfrom\u001b[0m \u001b[0mutilities\u001b[0m\u001b[1;33m.\u001b[0m\u001b[0mcustom_indicators\u001b[0m \u001b[1;32mimport\u001b[0m \u001b[0mget_n_columns\u001b[0m\u001b[1;33m\u001b[0m\u001b[1;33m\u001b[0m\u001b[0m\n\u001b[0;32m      8\u001b[0m \u001b[1;32mfrom\u001b[0m \u001b[0mdatetime\u001b[0m \u001b[1;32mimport\u001b[0m \u001b[0mdatetime\u001b[0m\u001b[1;33m\u001b[0m\u001b[1;33m\u001b[0m\u001b[0m\n",
      "\u001b[1;31mModuleNotFoundError\u001b[0m: No module named 'utilities'"
     ]
    }
   ],
   "source": [
    "import sys\n",
    "sys.path.append(\"./live_tools\")\n",
    "import ccxt\n",
    "import ta\n",
    "import pandas as pd\n",
    "from utilities.perp_bitget import PerpBitget\n",
    "from utilities.custom_indicators import get_n_columns\n",
    "from datetime import datetime\n",
    "import time\n",
    "import json\n"
   ]
  },
  {
   "cell_type": "code",
   "execution_count": null,
   "metadata": {},
   "outputs": [],
   "source": [
    "f = open(\n",
    "    \"api_connection.json\")\n",
    "api_connection = json.load(f)\n",
    "f.close()\n",
    "\n",
    "account_to_select = \"bitget_connection\"\n",
    "production = True"
   ]
  },
  {
   "cell_type": "code",
   "execution_count": null,
   "metadata": {},
   "outputs": [],
   "source": [
    "bitget = PerpBitget(\n",
    "    apiKey=api_connection[account_to_select][\"apiKey\"],\n",
    "    secret=api_connection[account_to_select][\"secret\"],\n",
    "    password=api_connection[account_to_select][\"password\"],\n",
    ")"
   ]
  },
  {
   "cell_type": "code",
   "execution_count": 4,
   "metadata": {},
   "outputs": [
    {
     "data": {
      "text/plain": [
       "('Moscareta28011Imagination1',)"
      ]
     },
     "execution_count": 4,
     "metadata": {},
     "output_type": "execute_result"
    }
   ],
   "source": [
    "api_connection[account_to_select][\"password\"],"
   ]
  },
  {
   "cell_type": "code",
   "execution_count": 6,
   "metadata": {},
   "outputs": [
    {
     "data": {
      "text/plain": [
       "157.718067802639"
      ]
     },
     "execution_count": 6,
     "metadata": {},
     "output_type": "execute_result"
    }
   ],
   "source": [
    "usd_balance = float(bitget.get_usdt_equity())\n",
    "usd_balance"
   ]
  },
  {
   "cell_type": "code",
   "execution_count": null,
   "metadata": {},
   "outputs": [],
   "source": [
    "import pandas as pd\n",
    "import numpy as np\n",
    "import requests\n",
    "import json\n",
    "import time\n",
    "from datetime import datetime\n",
    "import os\n",
    "\n",
    "\n",
    "#Path = os.path.dirname( os.path.abspath(__file__))\n",
    "def btc():\n",
    "    url = \"https://www.bitstamp.net/api/v2/ohlc/btcusd/\"\n",
    "    timeframe = 86400\n",
    "    start_date = 1312174800\n",
    "    end_date = int(time.time())\n",
    "\n",
    "    # set the maximum number of data points to return per request\n",
    "    limit = 1000\n",
    "\n",
    "    data_list = []\n",
    "    while start_date <= end_date:\n",
    "\n",
    "        request_end_date = min(start_date + limit*timeframe, end_date)\n",
    "        response = requests.get(url + \"?step=\" + str(timeframe) + \"&start=\" + str(start_date) + \"&end=\" + str(request_end_date) + \"&limit=\" + str(limit))\n",
    "        data = json.loads(response.text)\n",
    "        data_list += data['data']['ohlc']\n",
    "        start_date += limit*timeframe\n",
    "\n",
    "    df = pd.DataFrame(data_list)\n",
    "    df['timestamp'] = pd.to_datetime(df['timestamp'], unit='s')\n",
    "    df[['open', 'high', 'low', 'close', 'volume']] = df[['open', 'high', 'low', 'close', 'volume']].astype(float)\n",
    "\n",
    "    df.set_index('timestamp',drop=True, inplace = True)\n",
    "    #df.columns = [e.capitalize() for e in df.columns]\n",
    "    df.sort_index(ascending = True, inplace= True)\n",
    "\n",
    "\n",
    "    df.drop_duplicates(inplace=True)\n",
    "    # Add EHMA indicator\n",
    "    period = 20\n",
    "    sqrt_period = np.sqrt(period)\n",
    "\n",
    "    def John_Ehlers(x, y):\n",
    "        alpha = 2 / (y + 1)\n",
    "        sum = np.zeros(len(x))\n",
    "        sum[0] = alpha * x[0]\n",
    "        for i in range(1, len(x)):\n",
    "            sum[i] = alpha * x[i] + (1 - alpha) * sum[i-1]\n",
    "        return sum\n",
    "\n",
    "    close_ema1 = John_Ehlers(df['Close'], int(period / 2))\n",
    "    close_ema2 = John_Ehlers(df['Close'], period)\n",
    "    ehma = John_Ehlers(2 * close_ema1 - close_ema2, sqrt_period)\n",
    "\n",
    "    df['ehma'] =ehma\n",
    "\n",
    "    df['ehma_1'] = df['ehma'].shift(1)\n",
    "\n",
    "    return df\n"
   ]
  },
  {
   "cell_type": "code",
   "execution_count": null,
   "metadata": {},
   "outputs": [],
   "source": [
    "df = btc().copy()"
   ]
  },
  {
   "cell_type": "code",
   "execution_count": null,
   "metadata": {},
   "outputs": [],
   "source": [
    "df.shape"
   ]
  },
  {
   "cell_type": "code",
   "execution_count": null,
   "metadata": {},
   "outputs": [],
   "source": [
    "df"
   ]
  },
  {
   "cell_type": "code",
   "execution_count": null,
   "metadata": {},
   "outputs": [],
   "source": [
    "\n",
    "pair = \"BTC/USDT:USDT\"\n",
    "timeframe = \"1h\"\n",
    "leverage = 1\n",
    "\n",
    "print(f\"--- {pair} {timeframe} Leverage x {leverage} ---\")\n",
    "\n",
    "type = [\"long\", \"short\"]\n",
    "bol_window = 100\n",
    "bol_std = 2.25\n",
    "min_bol_spread = 0\n",
    "long_ma_window = 500\n",
    "\n",
    "\n",
    "bitget = PerpBitget(\n",
    "    apiKey=secret[account_to_select][\"apiKey\"],\n",
    "    secret=secret[account_to_select][\"secret\"],\n",
    "    password=secret[account_to_select][\"password\"],\n",
    ")\n",
    "\n",
    "# Get data\n",
    "df = bitget.get_more_last_historical_async(pair, timeframe, 1000)\n",
    "\n",
    "# Populate indicator\n",
    "df.drop(columns=df.columns.difference(['open','high','low','close','volume']), inplace=True)\n",
    "bol_band = ta.volatility.BollingerBands(close=df[\"close\"], window=bol_window, window_dev=bol_std)\n",
    "df[\"lower_band\"] = bol_band.bollinger_lband()\n",
    "df[\"higher_band\"] = bol_band.bollinger_hband()\n",
    "df[\"ma_band\"] = bol_band.bollinger_mavg()\n",
    "\n",
    "df['long_ma'] = ta.trend.sma_indicator(close=df['close'], window=long_ma_window)\n",
    "\n",
    "df = get_n_columns(df, [\"ma_band\", \"lower_band\", \"higher_band\", \"close\"], 1)\n"
   ]
  },
  {
   "cell_type": "code",
   "execution_count": null,
   "metadata": {},
   "outputs": [],
   "source": [
    "df"
   ]
  },
  {
   "cell_type": "code",
   "execution_count": null,
   "metadata": {},
   "outputs": [],
   "source": [
    "df.iloc[-1]"
   ]
  },
  {
   "cell_type": "code",
   "execution_count": 7,
   "metadata": {},
   "outputs": [],
   "source": [
    "positions_data = bitget.get_open_position()\n",
    "position = [\n",
    "    {\"side\": d[\"side\"], \"size\": float(d[\"contracts\"]) * float(d[\"contractSize\"]), \"market_price\":d[\"info\"][\"marketPrice\"], \"usd_size\": float(d[\"contracts\"]) * float(d[\"contractSize\"]) * float(d[\"info\"][\"marketPrice\"]), \"open_price\": d[\"entryPrice\"]}\n",
    "    for d in positions_data if d[\"symbol\"] == pair]"
   ]
  },
  {
   "cell_type": "code",
   "execution_count": 10,
   "metadata": {},
   "outputs": [
    {
     "data": {
      "text/plain": [
       "[]"
      ]
     },
     "execution_count": 10,
     "metadata": {},
     "output_type": "execute_result"
    }
   ],
   "source": [
    "positions_data"
   ]
  },
  {
   "cell_type": "code",
   "execution_count": null,
   "metadata": {},
   "outputs": [],
   "source": []
  }
 ],
 "metadata": {
  "kernelspec": {
   "display_name": "Python 3 (ipykernel)",
   "language": "python",
   "name": "python3"
  },
  "language_info": {
   "codemirror_mode": {
    "name": "ipython",
    "version": 3
   },
   "file_extension": ".py",
   "mimetype": "text/x-python",
   "name": "python",
   "nbconvert_exporter": "python",
   "pygments_lexer": "ipython3",
   "version": "3.9.13"
  }
 },
 "nbformat": 4,
 "nbformat_minor": 2
}

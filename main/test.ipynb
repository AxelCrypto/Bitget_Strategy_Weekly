{
 "cells": [
  {
   "cell_type": "code",
   "execution_count": 15,
   "metadata": {},
   "outputs": [
    {
     "name": "stdout",
     "output_type": "stream",
     "text": [
      "--- Start Execution Time : 18/04/2023 17:25:24 ---\n",
      "--- BTC/USDT:USDT timeframe: 1d Leverage Long:  x 2 ---\n",
      "--- BTC/USDT:USDT timeframe:1d Leverage Short: x 1 ---\n"
     ]
    }
   ],
   "source": [
    "import pandas as pd\n",
    "from perp_bitget import PerpBitget\n",
    "import ccxt\n",
    "import numpy as np\n",
    "import requests\n",
    "import json\n",
    "import time\n",
    "import os\n",
    "from datetime import datetime\n",
    "\n",
    "now = datetime.now()\n",
    "current_time = now.strftime(\"%d/%m/%Y %H:%M:%S\")\n",
    "print(\"--- Start Execution Time :\", current_time, \"---\")\n",
    "\n",
    "\n",
    "\n",
    "# Connection to API (To update in the AWS' server)\n",
    "f = open(\n",
    "    \"../api_connection.json\")\n",
    "api_connection = json.load(f)\n",
    "f.close()\n",
    "\n",
    "account_to_select = \"bitget_connection\"\n",
    "production = True\n",
    "\n",
    "pair = \"BTC/USDT:USDT\"\n",
    "timeframe = \"1d\"\n",
    "leverage_long = 2\n",
    "leverage_short = 1\n",
    "\n",
    "print(f\"--- {pair} timeframe: {timeframe} Leverage Long:  x {leverage_long} ---\")\n",
    "print(f\"--- {pair} timeframe:{timeframe} Leverage Short: x {leverage_short} ---\")\n",
    "\n",
    "\n",
    "type = [\"long\", \"short\"]\n"
   ]
  },
  {
   "cell_type": "code",
   "execution_count": 16,
   "metadata": {},
   "outputs": [],
   "source": [
    "def btc():\n",
    "    url = \"https://www.bitstamp.net/api/v2/ohlc/btcusd/\"\n",
    "    timeframe = 86400\n",
    "    start_date = 1312174800\n",
    "    end_date = int(time.time())\n",
    "\n",
    "    # set the maximum number of data points to return per request\n",
    "    limit = 1000\n",
    "\n",
    "    data_list = []\n",
    "    while start_date <= end_date:\n",
    "\n",
    "        request_end_date = min(start_date + limit*timeframe, end_date)\n",
    "        response = requests.get(url + \"?step=\" + str(timeframe) + \"&start=\" + str(start_date) + \"&end=\" + str(request_end_date) + \"&limit=\" + str(limit))\n",
    "        data = json.loads(response.text)\n",
    "        data_list += data['data']['ohlc']\n",
    "        start_date += limit*timeframe\n",
    "\n",
    "    df = pd.DataFrame(data_list)\n",
    "    df['timestamp'] = pd.to_datetime(df['timestamp'], unit='s')\n",
    "    df[['open', 'high', 'low', 'close', 'volume']] = df[['open', 'high', 'low', 'close', 'volume']].astype(float)\n",
    "\n",
    "    df.set_index('timestamp',drop=True, inplace = True)\n",
    "    #df.columns = [e.capitalize() for e in df.columns]\n",
    "    df.sort_index(ascending = True, inplace= True)\n",
    "\n",
    "    df.drop_duplicates(inplace = True)\n",
    "\n",
    "    period_1 = 30\n",
    "    period_2 = 120\n",
    "\n",
    "    sqrt_period_30 = np.sqrt(period_1)\n",
    "    sqrt_period_120 = np.sqrt(period_2)\n",
    "\n",
    "    def John(x, y):\n",
    "        alpha = 2 / (y + 1)\n",
    "        sum = np.zeros(len(x))\n",
    "        sum[0] = alpha * x[0]\n",
    "        for i in range(1, len(x)):\n",
    "            sum[i] = alpha * x[i] + (1 - alpha) * sum[i-1]\n",
    "        return sum\n",
    "\n",
    "    close_ema1_30 = John(df['close'], int(period_1 / 2))\n",
    "    close_ema2_30 = John(df['close'], period_1)\n",
    "    ehma_30 = John(2 * close_ema1_30 - close_ema2_30, sqrt_period_30)\n",
    "\n",
    "    df['ehma_30'] = ehma_30\n",
    "    df['ehma_30_1'] = df['ehma_30'].shift(1)\n",
    "\n",
    "\n",
    "    close_ema1_120 = John(df['close'], int(period_2 / 2))\n",
    "    close_ema2_120 = John(df['close'], period_2)\n",
    "    ehma_120 = John(2 * close_ema1_120 - close_ema2_120, sqrt_period_120)\n",
    "\n",
    "    df['ehma_120'] = ehma_120\n",
    "    df['ehma_120_1'] = df['ehma_120'].shift(1)\n",
    "\n",
    "    return df"
   ]
  },
  {
   "cell_type": "code",
   "execution_count": 21,
   "metadata": {},
   "outputs": [],
   "source": [
    "\n",
    "# Trading actions\n",
    "def open_long(row):\n",
    "\n",
    "    if row['ehma_30'] > row['ehma_30_1'] and row['ehma_120'] > row['ehma_120_1']:\n",
    "        return True\n",
    "    else:\n",
    "        return False\n",
    "\n",
    "\n",
    "def close_long(row):\n",
    "    if row['ehma_30'] < row['ehma_30_1'] or  row['ehma_120'] < row['ehma_120_1']:\n",
    "        return True\n",
    "    else:\n",
    "        return False\n",
    "\n",
    "def open_short(row):\n",
    "    if row['ehma_30'] < row['ehma_30_1'] and row['ehma_120'] < row['ehma_120_1']:\n",
    "        return True\n",
    "    else:\n",
    "        return False\n",
    "\n",
    "\n",
    "def close_short(row):\n",
    "    if row['ehma_30'] > row['ehma_30_1'] or row['ehma_120'] > row['ehma_120_1']:\n",
    "        return True\n",
    "    else:\n",
    "        return False\n"
   ]
  },
  {
   "cell_type": "code",
   "execution_count": 22,
   "metadata": {},
   "outputs": [],
   "source": [
    "df = btc().copy()\n",
    "row = df.iloc[-1]\n"
   ]
  },
  {
   "cell_type": "code",
   "execution_count": 23,
   "metadata": {},
   "outputs": [
    {
     "data": {
      "text/plain": [
       "close         30158.000000\n",
       "high          30483.000000\n",
       "low           29122.000000\n",
       "open          29452.000000\n",
       "volume         1271.261542\n",
       "ehma_30       30227.626913\n",
       "ehma_30_1     30119.151887\n",
       "ehma_120      28007.751215\n",
       "ehma_120_1    27852.432770\n",
       "Name: 2023-04-18 00:00:00, dtype: float64"
      ]
     },
     "execution_count": 23,
     "metadata": {},
     "output_type": "execute_result"
    }
   ],
   "source": [
    "row"
   ]
  },
  {
   "cell_type": "code",
   "execution_count": 24,
   "metadata": {},
   "outputs": [
    {
     "data": {
      "text/plain": [
       "True"
      ]
     },
     "execution_count": 24,
     "metadata": {},
     "output_type": "execute_result"
    }
   ],
   "source": [
    "open_long(row)"
   ]
  },
  {
   "cell_type": "code",
   "execution_count": null,
   "metadata": {},
   "outputs": [],
   "source": []
  }
 ],
 "metadata": {
  "kernelspec": {
   "display_name": "btc_viz",
   "language": "python",
   "name": "python3"
  },
  "language_info": {
   "codemirror_mode": {
    "name": "ipython",
    "version": 3
   },
   "file_extension": ".py",
   "mimetype": "text/x-python",
   "name": "python",
   "nbconvert_exporter": "python",
   "pygments_lexer": "ipython3",
   "version": "3.8.16"
  },
  "orig_nbformat": 4
 },
 "nbformat": 4,
 "nbformat_minor": 2
}
